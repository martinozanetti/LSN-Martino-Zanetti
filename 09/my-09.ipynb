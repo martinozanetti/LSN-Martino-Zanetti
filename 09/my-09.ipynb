{
 "cells": [
  {
   "cell_type": "markdown",
   "metadata": {},
   "source": [
    "# <span style=\"color:green\"> Numerical Simulation Laboratory (NSL) </span>\n",
    "## <span style=\"color:blue\">  Numerical exercises 9</span>\n"
   ]
  },
  {
   "cell_type": "markdown",
   "metadata": {},
   "source": [
    "### The Traveling Salesman Problem\n",
    "\n",
    "The traveling salesman problem (TSP) consists of a salesman and a set of $N$ cities with positions $\\vec{c}_i$. The salesman **has to visit each one of the cities starting from a certain one (e.g. the hometown) and returning to the same city**. The challenge of the problem is that the traveling salesman wants to **minimize the total length of the trip**.\n",
    "\n",
    "Consider now the ordered sequence of cities, $\\vec{c}_1, \\vec{c}_2, \\dots, \\vec{c}_N$, which goes from city 1 to the n$^{th}$ city. The path that minimizes the following loss/cost function (allora è un piccione viaggiatore, perchè vola tra le città):\n",
    "\n",
    "$$\n",
    "L^{(2)}(\\vec{x}_1, \\vec{x}_2, \\dots, \\vec{x}_N) = \\sum_{i=1}^{N} |\\vec{x}_i-\\vec{x}_{i+1}|^2\n",
    "$$\n",
    "\n",
    "or \n",
    "$$\n",
    "L^{(1)}(\\vec{x}_1, \\vec{x}_2, \\dots, \\vec{x}_N) = \\sum_{i=1}^{N} |\\vec{x}_i-\\vec{x}_{i+1}|\n",
    "$$\n",
    "\n",
    "\n",
    "(with $\\vec{x}_{N+1}=\\vec{x}_1$) is one particular permutation, P, of the ordered sequence of cities $\\vec{c}_1, \\vec{c}_2, \\dots, \\vec{c}_N$, i.e. \n",
    "\n",
    "$$\n",
    "\\vec{x}_1, \\vec{x}_2, \\dots, \\vec{x}_N = \\vec{c}_{P1}, \\vec{c}_{P2}, \\dots, \\vec{c}_{PN}\n",
    "$$\n",
    "\n",
    "Note also that any particular permutation of the ordered sequence of cities can be obtained from the combination of many simple permutations among pairs of cities.\n",
    "\n",
    "We can express a possible path via a 1D vector whose elements, from the first to the last, are integers that represents the cities in the order in which the salesman would visit them; for example for $N=5$ cities one possible path is represented by the vector:\n",
    "\n",
    "$$\n",
    "\\left[ 1, 3, 5, 4, 2 \\right]\n",
    "$$"
   ]
  },
  {
   "cell_type": "markdown",
   "metadata": {},
   "source": [
    "### Exercise 09.1\n",
    "\n",
    "You have to invent also a **selection** operator. \n",
    "The fitness and thus the order of the population should be obtained from $L^{(2)}(\\vec{x}_1, \\vec{x}_2, \\dots, \\vec{x}_N)$ or $L^{(1)}(\\vec{x}_1, \\vec{x}_2, \\dots, \\vec{x}_N)$. Once your starting population has been ordered on a fitness basis, i chose the second option:\n",
    "2. write a selection operator which simply uses the order in the orderd population with $M$ individuals, e.g. select the individual $j$ with the algorithm: $j= int(M \\times r^p)+1$ where $r$ is a uniform random number $r\\in[0,1)$ and $p$ a convenient exponent. \n",
    "\n",
    "<span style=\"color:red\">The first city to always appear at position 1, so as to reduce the degeneration of the shortest route to be 2, which corresponds to walking the shortest route in clockwise and anti-clockwise directions.</span>\n",
    "\n",
    "Then you can start introducing some *genetic-mutation* operators.\n",
    "\n",
    "Nota: tanti tipi di mutazioni = muoversi meglio in modo più ergodico sulle possibili soluzioni >> miglior efficienza (velocità, convergenza).\n",
    "\n",
    "Nota: un incrocio nella soluzione finale è quasi sempre indice di risultato non ancora raggiunto.\n",
    "\n",
    "Every mutation will have its probability, $p^{(i)}_m$ to be called and typically $p^{(i)}_m < 10\\%$, but before to include crossover you can check if the GA is able to perform a good *random search* using only mutation operators (in this case $p^{(i)}$ could be higher than in the previous suggestion).\n",
    "\n",
    "At this point you can add a *crossover* operator (that fulfils the bonds and that you will call with probability $p^{(i)}_c > 50\\%$):\n",
    "\n",
    "given a selected mother and father, e.g. \n",
    "$$\n",
    "\\left[ 1, 2, 3, 4, 5 \\right]\\\\\n",
    "\\left[ 1, 5, 4, 3, 2 \\right] \n",
    "$$\n",
    "1. cut their paths at the same position:\n",
    "$$\n",
    "\\left[ 1, 2, 3 | 4, 5 \\right]\\\\\n",
    "\\left[ 1, 5, 4 | 3, 2 \\right] \n",
    "$$\n",
    "2. conserve the first part of the paths:\n",
    "$$\n",
    "\\left[ 1, 2, 3 | X, Y \\right]\\\\\n",
    "\\left[ 1, 5, 4 | X, Y \\right] \n",
    "$$\n",
    "3. complete the paths with the missing cities adding them in the **order** in which they appear in the consort (vale anche se sono separati!):\n",
    "$$\n",
    "\\left[ 1, 2, 3 | 5, 4 \\right]\\\\\n",
    "\\left[ 1, 5, 4 | 2, 3 \\right] \n",
    "$$\n",
    "\n",
    "Here you are: you have two sons that you can add to the new generation ... and so on!"
   ]
  },
  {
   "cell_type": "markdown",
   "metadata": {},
   "source": [
    "Apply your code to the optimization of a path among \n",
    "\n",
    "- <span style=\"color:blue\">34 cities randomly placed **on** a circumference</span>\n",
    "- <span style=\"color:blue\">34 cities randomly placed **inside** a square</span>\n",
    "\n",
    "Show your results via:\n",
    "\n",
    "- <span style=\"color:red\">a picture of $L^{(2)}$ (or $L^{(1)}$) of the best path and of $\\langle L^{(2)}\\rangle$ (or $\\langle L^{(1)}\\rangle$), averaged on the best half of the population, as a function of the iterations/generations of your algorithm</span>\n",
    "- <span style=\"color:red\">a picture of the best path in cartesian coordinates</span>"
   ]
  },
  {
   "cell_type": "code",
   "execution_count": 2,
   "metadata": {},
   "outputs": [
    {
     "data": {
      "image/png": "[encoded data removed]",
      "text/plain": [
       "<Figure size 640x480 with 1 Axes>"
      ]
     },
     "metadata": {
      "needs_background": "light"
     },
     "output_type": "display_data"
    }
   ],
   "source": [
    "import matplotlib\n",
    "import matplotlib.pyplot as plt\n",
    "import numpy as np\n",
    "from matplotlib.pyplot import figure\n",
    "\n",
    "figure(figsize=(8, 6), dpi=80)\n",
    "\n",
    "x,y = np.loadtxt(\"ex9/cit/0citycoord.out\", usecols=(0,1), delimiter=' ', unpack='true')\n",
    "plt.plot(x, y, marker = \".\", linestyle = \"none\") \n",
    "\n",
    "plt.ylabel('y')\n",
    "plt.xlabel('x')\n",
    "plt.grid(True)\n",
    "#plt.axhline(y=-0.46, color = 'r', linestyle = '-')\n",
    "plt.title('City coordinates')\n",
    "#plt.legend()\n",
    "\n",
    "plt.xlim(-1.5, 1.5)\n",
    "plt.ylim(-1.5, 1.5)\n",
    "plt.gca().set_aspect('equal', adjustable='box')\n",
    "\n",
    "plt.show()"
   ]
  },
  {
   "cell_type": "code",
   "execution_count": 3,
   "metadata": {},
   "outputs": [
    {
     "name": "stdout",
     "output_type": "stream",
     "text": [
      "Generating image number:\n",
      "0, 10, 20, 30, 40, 50, 60, 70, 80, 90, 100, 110, 120, 130, 140, 150, 160, 170, 180, 190, 200, 210, 220, 230, 240, 250, 260, 270, 280, 290, 300, 310, 320, 330, 340, 350, 360, 370, 380, 390, 400, 410, 420, 430, 440, 450, 460, 470, 480, 490, \n",
      "Generating GIF: \n",
      "10, 20, 30, 40, 50, 60, 70, 80, 90, 100, 110, 120, 130, 140, 150, 160, 170, 180, 190, 200, 210, 220, 230, 240, 250, 260, 270, 280, 290, 300, 310, 320, 330, 340, 350, 360, 370, 380, 390, 400, 410, 420, 430, 440, 450, 460, 470, 480, 490, 500, \n",
      "END\n"
     ]
    },
    {
     "data": {
      "text/plain": [
       "<Figure size 360x360 with 0 Axes>"
      ]
     },
     "metadata": {},
     "output_type": "display_data"
    }
   ],
   "source": [
    "from time import pthread_getcpuclockid\n",
    "from turtle import shape\n",
    "from wsgiref.util import shift_path_info\n",
    "import matplotlib\n",
    "import matplotlib.pyplot as plt\n",
    "from requests import PreparedRequest\n",
    "import numpy as np\n",
    "from scipy.optimize import curve_fit\n",
    "from mpl_toolkits.mplot3d import Axes3D\n",
    "from matplotlib.collections import LineCollection\n",
    "import imageio\n",
    "import sys\n",
    "\n",
    "C=0\n",
    "\n",
    "print(\"Generating image number:\")\n",
    "\n",
    "gen,best = np.loadtxt(\"ex9/bestLen/BL.out\", usecols=(0,1), delimiter=' ', unpack='true')\n",
    "\n",
    "X,Y = np.loadtxt(\"ex9/cit/1citycoord.out\",  usecols=(0,1), delimiter=' ', unpack='true')\n",
    "Best = 500\n",
    "print(\"Generating image number (of\"+str(Best)+\"):\")\n",
    "\n",
    "fig=plt.figure(figsize=(5, 5))\n",
    "filenames=[]\n",
    "N=(X.size)\n",
    "\n",
    "for j in range(0,Best):\n",
    "\n",
    "    X,Y = np.loadtxt(\"ex9/cit/\"+str(j)+\"citycoord.out\",  usecols=(0,1), delimiter=' ', unpack='true')\n",
    "    fig=plt.figure(figsize=(8, 8))\n",
    "\n",
    "    plt.plot(X,Y, label = \"Generation \"+str(j)+\", Lenght =\"+str(best[j]))  \n",
    "    plt.xlabel('X')\n",
    "    plt.ylabel('Y')\n",
    "    plt.ylim([-1.5, 1.5])\n",
    "    plt.xlim([-1.5, 1.5])\n",
    "    plt.grid(True)\n",
    "    plt.legend()\n",
    "    if j%10 == 0:\n",
    "        print(j, end = \", \")\n",
    "    plt.savefig(\"ex9/imgs/%s.png\"%j,format=\"png\", dpi=150)\n",
    "    filenames.append(\"ex9/imgs/%s.png\"%j)\n",
    "    plt.close(fig)\n",
    "\n",
    "with imageio.get_writer('ex9/movie.gif', mode='I') as writer:\n",
    "    i = 0\n",
    "    print(\"\\nGenerating GIF: \")\n",
    "    for filename in filenames:\n",
    "        image = imageio.imread(filename)\n",
    "        writer.append_data(image)\n",
    "        i = i+1\n",
    "        if i%10 == 0:\n",
    "            print(i, end = \", \")\n",
    "\n",
    "print(\"\\nEND\")"
   ]
  },
  {
   "cell_type": "markdown",
   "metadata": {},
   "source": [
    "![Gif](#ex9/movie.gif)"
   ]
  },
  {
   "cell_type": "code",
   "execution_count": 1,
   "metadata": {},
   "outputs": [
    {
     "data": {
      "image/png": "[encoded data removed]",
      "text/plain": [
       "<Figure size 640x480 with 1 Axes>"
      ]
     },
     "metadata": {
      "needs_background": "light"
     },
     "output_type": "display_data"
    }
   ],
   "source": [
    "import matplotlib\n",
    "import matplotlib.pyplot as plt\n",
    "import numpy as np\n",
    "from matplotlib.pyplot import figure\n",
    "\n",
    "figure(figsize=(8, 6), dpi=80)\n",
    "\n",
    "gen,best = np.loadtxt(\"ex9/bestLen/BL.out\", usecols=(0,1), delimiter=' ', unpack='true')\n",
    "plt.plot(gen, best, marker = \"\", label = \"Best\") \n",
    "\n",
    "bestave = np.loadtxt(\"ex9/bestLen/BLAv.out\", usecols=(1), delimiter=' ', unpack='true')\n",
    "plt.plot(gen, bestave, marker = \"\", label = \"Best half average\") \n",
    "\n",
    "plt.ylabel('Length')\n",
    "plt.xlabel('generation #')\n",
    "plt.grid(True)\n",
    "#plt.axhline(y=-0.46, color = 'r', linestyle = '-')\n",
    "plt.title('Length of best paths')\n",
    "\n",
    "plt.legend()\n",
    "plt.show()"
   ]
  },
  {
   "cell_type": "code",
   "execution_count": null,
   "metadata": {},
   "outputs": [],
   "source": []
  }
 ],
 "metadata": {
  "kernelspec": {
   "display_name": "Python 3",
   "language": "python",
   "name": "python3"
  },
  "language_info": {
   "codemirror_mode": {
    "name": "ipython",
    "version": 3
   },
   "file_extension": ".py",
   "mimetype": "text/x-python",
   "name": "python",
   "nbconvert_exporter": "python",
   "pygments_lexer": "ipython3",
   "version": "3.9.7"
  }
 },
 "nbformat": 4,
 "nbformat_minor": 2
}
