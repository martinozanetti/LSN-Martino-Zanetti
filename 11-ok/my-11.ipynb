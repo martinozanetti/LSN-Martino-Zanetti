{
 "cells": [
  {
   "cell_type": "markdown",
   "metadata": {},
   "source": [
    "\n",
    "# Esercitazione 11 - Keras e regressioni tramite Neural Network"
   ]
  },
  {
   "cell_type": "markdown",
   "metadata": {},
   "source": [
    "In questa esercitazione l'obiettivo è di sfruttare un po' di *machine learning* per eseguire regressioni su dati con del rumore tramite **deep Neural Networks**.\n",
    "\n",
    "Cercheremo di capire in che modo i parametri di un modello *dNN* influenzino la capacità di una rete di **fittare una serie di dati**, e ci faremo un'idea di perché sia difficile **eseguire predizioni** con questi modelli.\n",
    "\n",
    "Usiamo questo pretesto anche per fare esperienza nell'uso delle librerie python `Keras` e `Tensorflow`, utilizzate diffusamente nell'ambito del machine learning."
   ]
  },
  {
   "cell_type": "markdown",
   "metadata": {},
   "source": [
    "### Il problema delle predizioni\n",
    "\n",
    "Si consideri un processo probabilistico che dà origine a dati classificati $(x,y)$, generati ad esempio campionando l'equazione\n",
    "$$\n",
    "    y_i= f(x_i) + \\eta_i,\n",
    "$$\n",
    "dove $f(x_i)$ è una funzione ignota e $\\eta_i$ è rumore bianco con le proprietà:\n",
    "$$\n",
    "\\langle \\eta_i \\rangle=0 \\\\\n",
    "\\langle \\eta_i \\eta_j \\rangle = \\delta_{ij} \\sigma\n",
    "$$\n",
    "\n",
    "\n",
    "Per provare a fare predizoni, si considera una rete neurale che dipende dai parametri dei suoi neuroni, i pesi $w$ e i *bias* $b$. Userò la classe `model` per rappresentare la funzione che la nostra rete mira a modellizzare e che verrà utilizzata per fare le predizioni.\n",
    "\n",
    "Per fargli calibrare i parametri della rete, allenerò i modelli su un set di **dati di *training***, dopodichè verificherò l'efficacia della rete su un altro set di dati. E' importante che siano dati diversi da quelli di training per la definizione stessa di machine learning: vogliamo fare buone predizioni di dati che non sono stati **mai visti!**  \n",
    "Per misurare l'abilità del modello di predirre *nuovi dati*, confronterò un set di *dati appena generati* con i dati di *test*.\n"
   ]
  },
  {
   "cell_type": "markdown",
   "metadata": {},
   "source": [
    "### Esercitazioni\n",
    "\n",
    "Nell'[**esercizio 11.1**](my-11.1.ipynb) proverò a prendere dimestichezza non le NN, attraverso il problema semplice di fittare una **funzione lineare** e predirne l'andamento.\n",
    "\n",
    "Nell'[**esercizio 11.2**](my-11.2.ipynb) il compito si complica con una **funzione polinomiale** di $3^o$ grado, e toccherò per la prima volta il problema della predicibilità.\n",
    "\n",
    "Nell'[**esercizio 11.3**](my-11.3.ipynb) il problema viene esteso allo **spazio 2D**."
   ]
  },
  {
   "cell_type": "markdown",
   "metadata": {},
   "source": []
  }
 ],
 "metadata": {
  "language_info": {
   "name": "python"
  },
  "orig_nbformat": 4
 },
 "nbformat": 4,
 "nbformat_minor": 2
}
