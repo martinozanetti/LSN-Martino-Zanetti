{
 "cells": [
  {
   "cell_type": "markdown",
   "metadata": {},
   "source": [
    "# <span style=\"color:green\"> Numerical Simulation Laboratory (NSL) </span>\n",
    "## <span style=\"color:blue\">  Numerical exercises 10</span>"
   ]
  },
  {
   "cell_type": "markdown",
   "metadata": {},
   "source": [
    "### Exercise 10.1\n",
    "\n",
    "Parallelize with MPI libraries your Genetic Algorithm code in order to solve the TSP by performing a *Genetic Search* with (up to) 10 **parallel GA searches of the optimal path**:\n",
    "each node should perform an independent GA search, the so-called *Continent*, **but** every $N_{migr}$ generations the *Continents* should exchange their best individuals randomly.\n",
    "\n",
    "Sui nostri PC, installare le librerie mpich, fare attenzione al numero di core di calcolo. In teoria il programma deve poter andare anche su 1 solo core, come per la 9. (livello 1)\n",
    "\n",
    "Quando lanciamo su core diversi ogni core deve fare un setseed diverso.\n",
    "\n",
    "Se i continenti fanno il lavoro in parallelo e basta abbiamo un certo risultato (livello 2)\n",
    "\n",
    "Nota: un alg genetico dovrebbe convergere entro 200 generazioni. Dopo ad esempio 20/30 generazioni si può far migrare il best di ogni nodo in modo casuale tra core diversi, magari scambiandolo col secondo best del core che riceve (livello 3). Nota comunque che la segregazione preserva la varietà genetica.\n",
    "\n",
    "Provare a grficare i 3 livelli e fare dei bei confronti."
   ]
  },
  {
   "cell_type": "markdown",
   "metadata": {},
   "source": [
    "### Exercise 10.2\n",
    "\n",
    "Apply your code to the TSP problem for 50 american state-capitals longitude and latitude coordinates in the *American_capitals.dat* file.\n",
    "\n",
    "Do you improve with respect using one single Continent?\n",
    "\n",
    "Do you improve with respect using (up to) 10 independent Continents?"
   ]
  }
 ],
 "metadata": {
  "kernelspec": {
   "display_name": "Python 3",
   "language": "python",
   "name": "python3"
  },
  "language_info": {
   "codemirror_mode": {
    "name": "ipython",
    "version": 3
   },
   "file_extension": ".py",
   "mimetype": "text/x-python",
   "name": "python",
   "nbconvert_exporter": "python",
   "pygments_lexer": "ipython3",
   "version": "3.7.6"
  }
 },
 "nbformat": 4,
 "nbformat_minor": 2
}
