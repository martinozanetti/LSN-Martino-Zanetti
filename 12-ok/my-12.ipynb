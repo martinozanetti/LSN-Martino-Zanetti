{
 "cells": [
  {
   "cell_type": "markdown",
   "metadata": {},
   "source": [
    "# Esercitazione 12 - riconoscimento di immagini tramite Deep & Convolutional Neural Network"
   ]
  },
  {
   "cell_type": "markdown",
   "metadata": {},
   "source": [
    "### MNIST con Keras\n",
    "\n",
    "Come dice il titolo, l'obiettivo di questa esercitazione è usare modelli di reti neurali profonde (anche in questo caso usando la libreria `Keras` di python), per indovinare la cifra corretta a partire da un'immagine contenente una delle 10 cifre scritta a mano.\n",
    "\n",
    "Il [dataset del MNIST](http://yann.lecun.com/exdb/mnist/) contiene $70\\,000$ cifre scritte a mano, in forma di matrice $28\\times 28$ con valori interi in $[0,255]$.\n",
    "\n",
    "Essendoci 10 categorie in questo problema (le 10 cifre da riconoscere), questo problema cade nell'insieme dei **problemi di classificazione**.\n"
   ]
  },
  {
   "cell_type": "markdown",
   "metadata": {},
   "source": [
    "### Esercizi\n",
    "\n",
    "Nell'[**esercizio 12.1**](my-12.1.ipynb) indagherò il comportamento della rete fornitaci, al variare del numero di **epoche** e del tipo di **ottimizzatore**.\n",
    "\n",
    "Nell'[**esercizio 12.2 e 12.3**](my-12.2-12.3.ipynb) convertirò la rete neurale (i cui nodi sono attualmente tutti di tipo `Dense`) in una rete **convoluzionale**, per risolvere il problema del riconoscimento di semplici immagini. Collauderò infine la rete sul set delle $10$ cifre disegnate a mano da me."
   ]
  }
 ],
 "metadata": {
  "kernelspec": {
   "display_name": "Python 3",
   "language": "python",
   "name": "python3"
  },
  "language_info": {
   "codemirror_mode": {
    "name": "ipython",
    "version": 3
   },
   "file_extension": ".py",
   "mimetype": "text/x-python",
   "name": "python",
   "nbconvert_exporter": "python",
   "pygments_lexer": "ipython3",
   "version": "3.9.12"
  }
 },
 "nbformat": 4,
 "nbformat_minor": 2
}
